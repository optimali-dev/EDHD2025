{
 "cells": [
  {
   "cell_type": "code",
   "execution_count": 160,
   "id": "557a9cad",
   "metadata": {},
   "outputs": [],
   "source": [
    "import numpy as np\n",
    "import pandas as pd\n",
    "import matplotlib.pyplot as plt\n",
    "\n",
    "import importlib\n",
    "\n",
    "import pre_processing"
   ]
  },
  {
   "cell_type": "code",
   "execution_count": 162,
   "id": "aeec1393",
   "metadata": {},
   "outputs": [],
   "source": [
    "auction_data_path = \"../Data/data_files/df_PRL_SRL_TRL_bids.parquet\"\n",
    "mfrr_activation_price_path = \"../Data/data_files/df_TRE_Tertiary_Control_Energy_bids.parquet\"\n",
    "dayahead_price_path = \"../Data/data_files/df_dayahead_randomized.parquet\"\n",
    "imbalance_price_path = \"../Data/data_files/df_imbalance_penalty_oneprice.parquet\"\n",
    "imbalance_volume_path = \"../Data/data_files/df_imbalance_volume_ch.parquet\"\n",
    "\n",
    "auction_data = pd.read_parquet(auction_data_path)\n",
    "mfrr_activation_price = pd.read_parquet(mfrr_activation_price_path)\n",
    "dayahead_price = pd.read_parquet(dayahead_price_path).reset_index()\n",
    "dayahead_price['time'] = pd.to_datetime(dayahead_price['time'], utc=True)\n",
    "imbalance_price = pd.read_parquet(imbalance_price_path)\n",
    "imbalance_volume = pd.read_parquet(imbalance_volume_path)\n",
    "imbalance_data = pd.merge(imbalance_volume, imbalance_price, on='time', how='inner').reset_index()\n",
    "imbalance_data['time'] = pd.to_datetime(imbalance_data['time'], utc=True)"
   ]
  },
  {
   "cell_type": "code",
   "execution_count": 166,
   "id": "8d7cd32d",
   "metadata": {},
   "outputs": [],
   "source": [
    "def test(time, time_utc):\n",
    "    volume = imbalance_data.loc[imbalance_data['time'] == pd.to_datetime(time_utc), 'imbalance_volume_ch'].values[0]\n",
    "\n",
    "    aFRR_data, mFFR_weekly_data, mFFR_daily_data = get_bid_profiles(auction_data, time, volume)\n",
    "    mFRR_data = get_mFFR_profile(mFFR_weekly_data, mFFR_daily_data)\n",
    "\n",
    "    wap_aFRR = compute_WAP(0.95*volume, aFRR_data)\n",
    "    wap_mFRR = 2 * compute_WAP(0.05 * 0.5 * volume, mFRR_data)\n",
    "\n",
    "    spot_price = get_spot_price(dayahead_price, pd.to_datetime(time_utc).floor('h'))\n",
    "    imbalance_penalty = compute_imbalance_price(volume, wap_mfrr=wap_mFRR, wap_afrr=wap_aFRR, spot=spot_price)\n",
    "    imbalance_price_pred = imbalance_penalty\n",
    "    imbalance_price_act = imbalance_data.loc[imbalance_data['time'] == pd.to_datetime(time_utc), 'price_imbalance_penalty'].values[0]\n",
    "\n",
    "    return volume, imbalance_price_pred, imbalance_price_act"
   ]
  },
  {
   "cell_type": "code",
   "execution_count": 183,
   "id": "19415630",
   "metadata": {},
   "outputs": [],
   "source": [
    "importlib.reload(pre_processing)\n",
    "from pre_processing import *\n",
    "\n",
    "months = [2, 7, 10]\n",
    "\n",
    "res = {month: np.zeros((24*4, 3)) for month in months}\n",
    "\n",
    "for month in months:\n",
    "    for i in range(24*4):\n",
    "        time_utc = pd.to_datetime(f\"2023-{month}-15\", utc=True) + pd.Timedelta(minutes=15*i)\n",
    "        time = parse_utc_to_time_info(time_utc)\n",
    "        volume, imbalance_price_pred, imbalance_price_act = test(time,time_utc)\n",
    "\n",
    "        res[month][i] = (volume, imbalance_price_pred, imbalance_price_act)"
   ]
  },
  {
   "cell_type": "code",
   "execution_count": 189,
   "id": "11ce134f",
   "metadata": {},
   "outputs": [
    {
     "name": "stdout",
     "output_type": "stream",
     "text": [
      "[-1.12940655  2.42332526  2.52080035  3.01688933 -1.2921489  -1.201584\n",
      " -2.59123431  3.58489157  1.42752137  1.31973505  0.78833036  0.7488937\n",
      "  0.705705    1.00267236  1.30095516 -0.72353546 -0.27550579 -1.79459855\n",
      " -0.80854787 -1.38450935  1.85312619  3.43725859  1.46279666  1.77407717\n",
      "  0.89831597 -2.37571309 -2.60162435 -2.67060214 -2.79366214 -2.78691112\n",
      " -2.55669146 -1.12864103 -2.76       -3.98       -1.82       -1.66025911\n",
      " -5.1        -4.64       -1.51        0.46       -6.4        -6.96\n",
      " -0.88        8.86       -0.6        -0.9         9.98479057 10.77231857\n",
      " 12.55632918  8.35692243 14.53        7.04846572 -1.14216082 -1.91893065\n",
      " -1.32       -3.15        2.55325715  2.26100335 -3.53       -4.12\n",
      "  6.31983682 -0.8787325  -3.77       -6.61       -1.69655106 -3.47\n",
      " -5.7        -8.79       -5.47       -3.34       -2.03       -1.27932466\n",
      " -5.49       -4.8        -2.46       -1.46682851 -7.96       -8.2\n",
      " -1.329931   -0.05117205 -7.72       -0.32       -0.43850276  0.48517202\n",
      " -5.62        0.30408083  1.48519655  5.79254314  5.38869211  4.31743981\n",
      "  7.48595987 18.13895936 17.10343003 -2.85281425 -0.3000034   0.56068905]\n",
      "MAE for month 10: 3.5997969535829015\n",
      "RMSE for month 10: 5.062648400816868\n"
     ]
    },
    {
     "data": {
      "image/png": "[encoded data removed]",
      "text/plain": [
       "<Figure size 640x480 with 1 Axes>"
      ]
     },
     "metadata": {},
     "output_type": "display_data"
    }
   ],
   "source": [
    "for month in months:\n",
    "    if month == 10:\n",
    "        output = res[month]\n",
    "        pd.DataFrame(output).to_csv(f'result_{month}.csv', index=False)\n",
    "\n",
    "        # compute root mean square error using numpy package\n",
    "        temp = (output[:,1] - output[:,2])\n",
    "        print(temp)\n",
    "        rmse = np.sqrt(np.mean(temp**2))\n",
    "        mae = np.mean(np.abs(temp))\n",
    "        print(f'MAE for month {month}: {mae}')\n",
    "        print(f'RMSE for month {month}: {rmse}')\n",
    "\n",
    "        fig = plt.figure()\n",
    "        plt.plot([x[1] for x in res[month]], 'o', label='Predicted')\n",
    "        plt.plot([x[2] for x in res[month]], 'o', label='Actual')\n",
    "        # plt.xlabel('Imbalance Volume')\n",
    "        plt.ylabel('Imbalance Price')\n",
    "        plt.ylim(-50, 50)\n",
    "        plt.legend()\n",
    "        plt.grid(True)\n",
    "        plt.show()"
   ]
  }
 ],
 "metadata": {
  "kernelspec": {
   "display_name": ".venv",
   "language": "python",
   "name": "python3"
  },
  "language_info": {
   "codemirror_mode": {
    "name": "ipython",
    "version": 3
   },
   "file_extension": ".py",
   "mimetype": "text/x-python",
   "name": "python",
   "nbconvert_exporter": "python",
   "pygments_lexer": "ipython3",
   "version": "3.13.7"
  }
 },
 "nbformat": 4,
 "nbformat_minor": 5
}
